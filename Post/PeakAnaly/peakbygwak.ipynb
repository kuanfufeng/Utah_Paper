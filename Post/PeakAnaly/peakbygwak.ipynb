{
 "cells": [
  {
   "cell_type": "code",
   "execution_count": null,
   "metadata": {},
   "outputs": [],
   "source": [
    "import numpy as np\n",
    "import pandas as pd \n",
    "\n",
    "import matplotlib.pyplot as plt\n",
    "import seaborn as sns"
   ]
  },
  {
   "cell_type": "code",
   "execution_count": null,
   "metadata": {},
   "outputs": [],
   "source": [
    "def r2func(x, y, **kws):\n",
    "    r = np.corrcoef(x, y)[0, 1]  # Extracting the correlation coefficient\n",
    "    r2 = r**2\n",
    "    ax = plt.gca()\n",
    "    ax.annotate(f'R² = {r2:.2f}', xy=(.5, .5), xycoords=ax.transAxes,\n",
    "                ha='center', va='center', fontsize=12, color='blue')\n"
   ]
  },
  {
   "cell_type": "code",
   "execution_count": null,
   "metadata": {},
   "outputs": [],
   "source": [
    "df2 = pd.read_csv('amp_combine3.csv')\n",
    "df2"
   ]
  },
  {
   "cell_type": "code",
   "execution_count": null,
   "metadata": {},
   "outputs": [],
   "source": [
    "hue_order = [\"loam\",\n",
    "\"very cobbly loam\",\n",
    "\"cobbly loam and very stony loam\", \n",
    "\"cobbly sandy loam and very stony sandy loam\",\n",
    "\"gravelly fine sandy loam and gravelly loam\",\n",
    "\"fine sandy loam\",\n",
    "\"gravelly silt loam\",\n",
    "\"clay loam\",\n",
    "\"clay\",]\n",
    "pp = sns.pairplot(data=df2,\n",
    "                  x_vars=['annual_amp_dvv'],\n",
    "                  y_vars=['annual_amp_GSL','annual_amp_UL', 'annual_amp_smewt','annual_amp_temp', 'vs30', 'soil_type',],\n",
    "                  hue=\"soil_type\",\n",
    "                  hue_order=hue_order,\n",
    "                  palette=\"colorblind\",\n",
    "                  )\n",
    "\n",
    "pp.axes[0,0].set_xlim(0, 1.2)\n",
    "sns.move_legend(pp, loc=\"upper right\", bbox_to_anchor=(2, 1))\n",
    "\n",
    "pp.fig.suptitle('Peak-to-peak amplitude over stations')\n",
    "#plt.legend(loc=\"upper right\", bbox_to_anchor=(2,2))\n",
    "plt.tight_layout() \n",
    "figname=\"p2p_output_strait_comb.png\"\n",
    "plt.savefig(figname,dpi=300)\n",
    "\n",
    "x=df2['annual_amp_dvv']\n",
    "y=df2['vs30']\n",
    "r = np.corrcoef(x, y)[0, 1]  # Extracting the correlation coefficient\n",
    "r2 = r**2\n",
    "print(f'R² = {r2:.2f}; r = {r:.2f}')\n"
   ]
  },
  {
   "cell_type": "code",
   "execution_count": null,
   "metadata": {},
   "outputs": [],
   "source": [
    "import seaborn as sns\n",
    "import matplotlib.pyplot as plt\n",
    "import numpy as np\n",
    "import pandas as pd\n",
    "\n",
    "# Example: Loading your CSV file (make sure to adjust the path)\n",
    "df2 = pd.read_csv('amp_combine3.csv')\n",
    "\n",
    "# Define a custom function to annotate R-squared values\n",
    "def get_r2(x, y, **kws):\n",
    "    x = x.astype(float)\n",
    "    y = y.astype(float)\n",
    "    x = x-np.mean(x)\n",
    "    y = y-np.mean(y)\n",
    "    x = x/np.max(x)\n",
    "    y = y/np.max(y)\n",
    "    r = np.corrcoef(x, y)[0, 1]  # Extracting the correlation coefficient\n",
    "    r2 = r**2\n",
    "    return (f'Coef={r:.2f}; R²={r2:.2f}')\n",
    "\n",
    "\n",
    "print(\"dv,GSL:  \", get_r2(df2['annual_amp_dvv'], df2['annual_amp_GSL']))\n",
    "print(\"dv,UL:   \", get_r2(df2['annual_amp_dvv'], df2['annual_amp_UL']))\n",
    "print(\"dv,smewt:\", get_r2(df2['annual_amp_dvv'], df2['annual_amp_smewt']))\n",
    "print(\"dv,temp: \", get_r2(df2['annual_amp_dvv'], df2['annual_amp_temp']))\n",
    "print(\"dv,vs30: \", get_r2(df2['annual_amp_dvv'], df2['vs30']))\n"
   ]
  },
  {
   "cell_type": "code",
   "execution_count": null,
   "metadata": {},
   "outputs": [],
   "source": []
  }
 ],
 "metadata": {
  "kernelspec": {
   "display_name": "pygmt",
   "language": "python",
   "name": "python3"
  },
  "language_info": {
   "codemirror_mode": {
    "name": "ipython",
    "version": 3
   },
   "file_extension": ".py",
   "mimetype": "text/x-python",
   "name": "python",
   "nbconvert_exporter": "python",
   "pygments_lexer": "ipython3",
   "version": "3.10.14"
  },
  "orig_nbformat": 4
 },
 "nbformat": 4,
 "nbformat_minor": 2
}
